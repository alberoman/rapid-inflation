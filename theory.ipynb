{
 "cells": [
  {
   "cell_type": "markdown",
   "id": "3abad6b5",
   "metadata": {},
   "source": [
    "# Rebaul main equations\n",
    "Mass conservation reads\n",
    "\n",
    "\\begin{equation}\n",
    "\\frac{d}{dt}(\\rho V) = q\n",
    "\\end{equation}\n",
    "\n",
    "Considering small variations of the volume the equation becomes\n",
    "\n",
    "\\begin{equation}\n",
    "V_0\\frac{d\\rho}{dp}\\frac{dp}{dt} + V_0\\frac{d\\rho}{dT}\\frac{dT}{dt} + V_0\\frac{\\rho}{k_{ch}}\\frac{dp}{dt} = q\n",
    "\\end{equation}\n",
    "\n",
    "$V_0$ is the chamber volume and $k_{ch}$ is the chamber bulk modulus.\n",
    "which in turn is\n",
    "\n",
    "\\begin{equation}\n",
    "\\frac{dp}{dt}(\\frac{1}{\\rho}\\frac{d\\rho}{dp}+ \\frac{1}{k_{ch}}) = \\frac{1}{\\rho}\\frac{q}{V_0} - \\frac{1}{\\rho}\\frac{d\\rho}{dT}\\frac{dT}{dt} \n",
    "\\end{equation}\n",
    "\n",
    "We can set \n",
    "\n",
    "\\begin{equation}\n",
    "\\bar\\beta(p,T) = \\frac{1}{\\rho}\\frac{d\\rho}{dp}+ \\frac{1}{k_{ch}}\n",
    "\\end{equation}\n",
    "\n",
    "\\begin{equation}\n",
    "\\bar\\alpha(p,T) = \\frac{1}{\\rho}\\frac{d\\rho}{dT}\n",
    "\\end{equation}\n",
    "\n",
    "So that mass conservation becomes\n",
    "\\begin{equation}\n",
    "\\bar\\beta\\frac{dp}{dt} = \\frac{q}{\\rho V_0} - \\bar\\alpha\\frac{dT}{dt} \n",
    "\\end{equation}\n",
    "\n",
    "where $\\bar\\beta$ and $\\bar\\alpha$ are the effective coefficients of compressibility and thermal expansion respectively.\n",
    "\n",
    "Now we need to specify the equations for the liquid, crystal and gas mixture density.\n",
    "\n",
    "\\begin{equation}\n",
    "\\rho = (\\frac{x_g}{\\rho_g} + \\frac{(1-x_g)}{\\rho_b})^{-1}\n",
    "\\end{equation}\n",
    "\n",
    "where $x_g$ is the mass fraction of gas, $\\rho_g$ is its density and $\\rho_b$ is the density of the crystal and liquid mixture.\n",
    "\n",
    "We assume that exsolved volatiles behave like a perfect gas so that\n",
    "\\begin{equation}\n",
    "\\rho_g = \\frac{p}{RT}\n",
    "\\end{equation}\n",
    "\n",
    "The density of the magma (liquid and crystals) is\n",
    "\n",
    "\\begin{equation}\n",
    "(\\frac{x_c}{\\rho_c} + \\frac{(1-x_c)}{\\rho_c})^{-1}\n",
    "\\end{equation}\n",
    "\n",
    "Where $x_c is the mass fraction of the crystal excluding the volatiles.\n",
    "\n",
    "The mass fraction of the volatiles $x_g$ is found using mass conservation and Henry solulibility law.For basalts this is\n",
    "\\begin{equation}\n",
    "x_d = sp^{1/2}\n",
    "\\end{equation}\n",
    "\n",
    "so that the mass fraction of gas is\n",
    "\n",
    "\\begin{equation}\n",
    "x_g = x_t - -x_d =x_t- sp^{1/2}(1 - x_c)\n",
    "\\end{equation}\n",
    "\n",
    "where x_t is the total volatile content in the magma. We can then caculate\n",
    "\n",
    "\\begin{equation}\n",
    "\\frac{d\\rho}{dT} = -\\rho^2[\\frac{x_g R}{p} -\\ x_d\\Gamma(\\frac{RT}{p}-\\frac{1}{\\rho_b})-(1-x_g)\\Gamma(\\frac{1}{\\rho_c} - \\frac{1}{\\rho_l})]\n",
    "\\end{equation}\n",
    "where \\gamma is the crystallization rate $\\gamma$\n",
    "\\begin{equation}\n",
    "\\frac{d\\rho}{dp} = \\rho^2  (\\frac{x_g  R  T}  {p^2} \n",
    "                              + \\frac{(1 - x_g)}{ k_l \\rho_b}\n",
    "                              +\\frac{1}{2}sp^{-1 /2}(\\frac{R T }{p} - \\frac{1}{\\rho_b}))\n",
    "\\end{equation}\n",
    "\n",
    "Combining this equation together we can calculate $\\bar\\beta$ and $\\bar\\alpha$\n",
    "\n"
   ]
  },
  {
   "cell_type": "code",
   "execution_count": 249,
   "id": "9fe3ede6",
   "metadata": {},
   "outputs": [],
   "source": [
    "import numpy as np\n",
    "import matplotlib.pyplot as plt\n",
    "from density_lib import *\n",
    "rhol0 = 2700\n",
    "rhoc0 = 3100\n",
    "R = 462 #Gas constant from woods and huppert\n",
    "G = 1e+10\n",
    "kl = 5e+10\n",
    "kch = (3 / (4 * G))**-1 #bulk modulus chamber\n",
    "Tl = 1300\n",
    "Ts = 1050\n",
    "gamma  =  1 / (Tl - Ts)\n",
    "s = 4.11 * 1e-6 #Exponent of the fink law from huppert and woods\n",
    "G = 1e+10\n",
    "dp = 1e+5\n",
    "xt = 0.025              \n",
    "zc = 2.0e+3\n",
    "pc = rhol0 * 9.8 * zc"
   ]
  },
  {
   "cell_type": "markdown",
   "id": "f72697d2",
   "metadata": {},
   "source": [
    "### Plots of the effective compressibility $\\bar\\beta$ and effective thermal expansion $\\bar\\alpha$\n",
    "As shown above the conservation of mass with the effective compressibility and thermal expansion is\n",
    "\n",
    "\\begin{equation}\n",
    "\\bar\\beta\\frac{dp}{dt} = \\frac{q}{\\rho V_0} - \\bar\\alpha\\frac{dT}{dt} \n",
    "\\end{equation}\n",
    "\n",
    "with\n",
    "\n",
    "\\begin{equation}\n",
    "\\bar\\beta(p,T) = \\frac{1}{\\rho}\\frac{d\\rho}{dp}+ \\frac{1}{k_{ch}}\n",
    "\\end{equation}\n",
    "\n",
    "\\begin{equation}\n",
    "\\bar\\alpha(p,T) = \\frac{1}{\\rho}\\frac{d\\rho}{dT}\n",
    "\\end{equation}\n",
    "\n",
    "In the next figures we show the variation of these coeffiecients with pressure and temperature. We consider a magma with a total volatile content of 0.02. For the $\\bar\\beta$ the calculation is shown for a total crystal content of 0.2. For the $\\bar\\alpha$ the pressure is set at 55 MPa, which corresponds to a chamber depth of about 2 km.\n",
    "For $\\bar\\beta$ undergoes a large change at about 25 MPa, which corresponds to the pressure at which all the volatiles are back in solution. At lower pressures, some of the volatiles are exsolved and the compressibility is much higher.\n",
    "The $\\bar\\alpha$ evolution is more complex. At high temperatures (T > 1250), there is only melt, so that the effective thermal expansion is zero (in the model we neglected the thermal expansion of the liquid because it is dwarfed by the changes associated with chrystallization and exsolution). In the interval 1775-1250 we have only crystallization and no volatiles exsolves so that the system is effectively contracting, which corresponds to a small and negative coefficient. However, below 1175 $\\alpha\\bar becomes positive with a strong discontinuity: this jump is associated with the exsolution of volatiles. Finally below 1050 all the magma as crystallized.\n"
   ]
  },
  {
   "cell_type": "code",
   "execution_count": 250,
   "id": "2137b078",
   "metadata": {},
   "outputs": [
    {
     "data": {
      "text/plain": [
       "Text(0, 0.5, '$alpha_{eff}$ [C$^{-1}$]')"
      ]
     },
     "execution_count": 250,
     "metadata": {},
     "output_type": "execute_result"
    },
    {
     "data": {
      "image/png": "[encoded data removed]",
      "text/plain": [
       "<Figure size 576x252 with 2 Axes>"
      ]
     },
     "metadata": {
      "needs_background": "light"
     },
     "output_type": "display_data"
    }
   ],
   "source": [
    "T = np.linspace(1300,1000,1000) + 273\n",
    "rho = []\n",
    "drhodT = []\n",
    "for i in range(len(T)):\n",
    "    rho.append(calc_rho(pc,T[i],s,rhol0,rhoc0,Tl,Ts,xt,kl,R))\n",
    "    drhodT.append(calc_drhodT(pc,T[i],s,rhol0,rhoc0,Tl,Ts,xt,kl,gamma,R))\n",
    "rho = np.array(rho)\n",
    "drhodT = np.array(drhodT)\n",
    "alpha_eff = 1 / rho * drhodT\n",
    "p = np.linspace(3e+6,100e+6,1000)\n",
    "xc = 0.1\n",
    "Tp = calc_T(xc, Tl, Ts) + 273\n",
    "rho = []\n",
    "drhodp = []\n",
    "for i in range(len(p)):\n",
    "    rho.append(calc_rho(p[i],Tp,s,rhol0,rhoc0,Tl,Ts,xt,kl,R))\n",
    "    drhodp.append(calc_drhodp(p[i],Tp,s,rhol0,rhoc0,Tl,Ts,xt,kl,R))\n",
    "rho = np.array(rho)\n",
    "drhodT = np.array(drhodT)\n",
    "beta_eff = 1 / rho * drhodp\n",
    "fig = plt.figure(figsize=(8,3.5), constrained_layout = True)\n",
    "ax1 = fig.add_subplot(121)  # equivalent but more general\n",
    "ax1.semilogy(p/1e+6,beta_eff)\n",
    "ax1.set_xlabel('Pressure [MPa]')\n",
    "ax1.set_ylabel('$beta_{eff}$ [Pa$^{-1}$]')\n",
    "ax2 = fig.add_subplot(122)  # equivalent but more general\n",
    "ax2.plot(T-273,alpha_eff)\n",
    "ax2.set_xlabel('T [$^oC$]')\n",
    "ax2.set_ylabel('$alpha_{eff}$ [C$^{-1}$]')"
   ]
  },
  {
   "cell_type": "markdown",
   "id": "7974be25",
   "metadata": {},
   "source": [
    "# Plots of fluxes and temprature changes\n",
    "Given mass conservation\n",
    "\n",
    "\\begin{equation}\n",
    "\\bar\\beta\\frac{dp}{dt} = \\frac{q}{\\rho V_0} - \\bar\\alpha\\frac{dT}{dt} \n",
    "\\end{equation}\n",
    "\n",
    "we might wander what is the instantaneous rate of pressurization for a given mass flux $q$ and heating cooling rate $\\frac{dT}{dt}$"
   ]
  },
  {
   "cell_type": "code",
   "execution_count": 258,
   "id": "a2c0ed04",
   "metadata": {},
   "outputs": [],
   "source": [
    "q = np.linspace(0.1,10,100) * rhol0\n",
    "dTdtlog = np.linspace(-6,-12)\n",
    "dTdt = 10**dTdtlog\n",
    "dTdt = np.concatenate((-dTdt,dTdt[::-1]))\n",
    "V0 = 5e+9\n",
    "xc = 0.2\n",
    "T = calc_T(xc, Tl, Ts) + 273\n",
    "DT,Q = np.meshgrid(dTdt,q)\n",
    "dpdt = np.zeros(DT.shape)\n",
    "rho = calc_rho(pc,T,s,rhol0,rhoc0,Tl,Ts,xt,kl,R)\n",
    "drhodp = calc_drhodp(pc,T,s,rhol0,rhoc0,Tl,Ts,xt,kl,R)\n",
    "drhodT = calc_drhodT(pc,T,s,rhol0,rhoc0,Tl,Ts,xt,kl,gamma,R)\n",
    "beta_eff = 1 / rho * drhodp\n",
    "alpha_eff = 1 / rho * drhodT\n",
    "xg = calc_xg(pc, xc, xt, s)\n",
    "for i in range(len(q)):\n",
    "    for j in range(len(dTdt)):\n",
    "        dpdt[i,j] = 1 / beta_eff * (q[i] / (rho * V0) - alpha_eff * dTdt[j])"
   ]
  },
  {
   "cell_type": "code",
   "execution_count": 259,
   "id": "8076f906",
   "metadata": {},
   "outputs": [
    {
     "data": {
      "text/plain": [
       "Text(0, 0.5, 'q [m$^3$ s$^{-1}]$')"
      ]
     },
     "execution_count": 259,
     "metadata": {},
     "output_type": "execute_result"
    },
    {
     "data": {
      "image/png": "[encoded data removed]",
      "text/plain": [
       "<Figure size 288x288 with 1 Axes>"
      ]
     },
     "metadata": {
      "needs_background": "light"
     },
     "output_type": "display_data"
    }
   ],
   "source": [
    "fig = plt.figure(figsize=(4,4), constrained_layout = True)\n",
    "ax = fig.add_subplot(111)  # equivalent but more general\n",
    "ax.contourf(dTdt,q / rhol0,dpdt * (3600 *24 * 365) / 1e+6,100,cmap='seismic',vmin = -25,vmax= 25)\n",
    "ax.set_xlabel('dT/dt [$^o$C s$^{-1}$] ')\n",
    "ax.set_ylabel('q [m$^3$ s$^{-1}]$')"
   ]
  },
  {
   "cell_type": "markdown",
   "id": "57cc0c9d",
   "metadata": {},
   "source": [
    "We now turn to examine the full dyncamic model. Initially let's suppose that the upper chamber is connected to the lower chamber which has constant overpressure through a conduit.\n",
    "The flux in the upper chamber is given by\n",
    "\\begin{equation}\n",
    "q(t) =k \\rho_0 (p_d - p)\n",
    "\\end{equation}\n",
    "with $k$ beign a lumped parameter describing the hydraulic connectivity between the two chambers.\n",
    "Mass conservation becomes\n",
    "\n",
    "\\begin{equation}\n",
    "\\bar\\beta\\frac{dp}{dt} = k \\rho_0\\frac{p_d-p}{\\rho V_0} - \\bar\\alpha\\frac{dT}{dt} \n",
    "\\end{equation}\n",
    "\n",
    "The last equation needed to close the problem is the conservation of energy\n",
    "\n",
    "\\begin{equation}\n",
    "M(C_p + L \\Gamma)\\frac{dT}{dt} = -F_c + (C_p + L \\Gamma) \\rho_0 k(p_d-p) (T_0 - T)\n",
    "\\end{equation}\n",
    "\n",
    "Here $M$ is the mass of the magma in the chamber $C_p$ and $L$ are the specific heat and the latent heat of cystallization. $F_c$ is the heat flux in the host rock. $F_c$depends on the convective regime in the chamber and it is subject to karge uncertainties so that, at this stage, we consider it constant and explore a range of values."
   ]
  },
  {
   "cell_type": "code",
   "execution_count": 384,
   "id": "d8ee48d7",
   "metadata": {},
   "outputs": [
    {
     "data": {
      "text/plain": [
       "[<matplotlib.lines.Line2D at 0x7f8ffcb4d910>]"
      ]
     },
     "execution_count": 384,
     "metadata": {},
     "output_type": "execute_result"
    },
    {
     "data": {
      "image/png": "[encoded data removed]",
      "text/plain": [
       "<Figure size 432x288 with 1 Axes>"
      ]
     },
     "metadata": {
      "needs_background": "light"
     },
     "output_type": "display_data"
    },
    {
     "data": {
      "image/png": "[encoded data removed]",
      "text/plain": [
       "<Figure size 432x288 with 1 Axes>"
      ]
     },
     "metadata": {
      "needs_background": "light"
     },
     "output_type": "display_data"
    },
    {
     "data": {
      "image/png": "[encoded data removed]",
      "text/plain": [
       "<Figure size 432x288 with 1 Axes>"
      ]
     },
     "metadata": {
      "needs_background": "light"
     },
     "output_type": "display_data"
    },
    {
     "data": {
      "image/png": "[encoded data removed]",
      "text/plain": [
       "<Figure size 432x288 with 1 Axes>"
      ]
     },
     "metadata": {
      "needs_background": "light"
     },
     "output_type": "display_data"
    }
   ],
   "source": [
    "from scipy.integrate import solve_ivp\n",
    "\n",
    "def dpdt_dTdt(t,y):\n",
    "    p,M,T = y\n",
    "    rho = calc_rho(p,T,s,rhol0,rhoc0,Tl,Ts,xt,kl,R)\n",
    "    drhodp = calc_drhodp(pc,T,s,rhol0,rhoc0,Tl,Ts,xt,kl,R)\n",
    "    drhodT = calc_drhodT(pc,T,s,rhol0,rhoc0,Tl,Ts,xt,kl,gamma,R)\n",
    "    alpha_eff = 1 / rho * drhodT\n",
    "    beta_eff = 1 / rho * drhodp + 1 / k_ch\n",
    "    q = k * (pd -  p) * rhol0\n",
    "    Fc = coolrate * thermal_const * M \n",
    "    dTdt = (-Fc + thermal_const * q * (Ti - T)) / (thermal_const * M)\n",
    "    #dTdt = 0\n",
    "    return [1 / ( beta_eff) * ( q / (V0 * rho) - alpha_eff *dTdt), q ,dTdt ]\n",
    "\n",
    "rhol0 = 2700\n",
    "g = 9.8\n",
    "L = 3e+5\n",
    "Cp = 1e+3\n",
    "years = 15\n",
    "tend = 3600 * 24 * 365 * years\n",
    "coolrate = 5e-8\n",
    "V0 = 5e+9\n",
    "k_ch = (3 / (4 * G))**-1 #bulk modulus chamber\n",
    "deltaP0 = 5e+6 #initial pressure difference\n",
    "q0 = 0. #in cubic meter\n",
    "k = q0 / deltaP0\n",
    "xt = 0.03\n",
    "xc = 0.\n",
    "zc = 2300\n",
    "plc = rhol0 * g * zc\n",
    "pd= plc + deltaP0\n",
    "thermal_const = Cp + L * gamma\n",
    "p0 = plc\n",
    "T0 = calc_T(xc, Tl, Ts) + 273\n",
    "Ti = Tl + 273 #injection\n",
    "rho0 = calc_rho(p0,T0,s,rhol0,rhoc0,Tl,Ts,xt,kl,R)\n",
    "M0 = rho0 * V0\n",
    "t = np.linspace(0,tend,3000)\n",
    "sol = solve_ivp(dpdt_dTdt,[0,tend],np.array([p0,M0,T0]),method = 'Radau',t_eval = t)\n",
    "t = sol.t\n",
    "p = sol.y[0]\n",
    "M = sol.y[1]\n",
    "T = sol.y[2]\n",
    "xg = []\n",
    "for i in range(len(p)):\n",
    "    xc = calc_xc(T[i],Tl,Ts)\n",
    "    xg.append(calc_xg(p[i], xc, xt, s))\n",
    "q = k * (pd - p)\n",
    "plt.plot(t,(p-p0) / 1e+6)\n",
    "plt.figure()\n",
    "plt.plot(t,T-273)\n",
    "plt.figure()\n",
    "plt.plot(t,q)\n",
    "plt.figure()\n",
    "plt.plot(t,xg)"
   ]
  },
  {
   "cell_type": "code",
   "execution_count": 373,
   "id": "694374c4",
   "metadata": {},
   "outputs": [
    {
     "data": {
      "text/plain": [
       "1300.0"
      ]
     },
     "execution_count": 373,
     "metadata": {},
     "output_type": "execute_result"
    }
   ],
   "source": [
    "T0 - 273"
   ]
  },
  {
   "cell_type": "code",
   "execution_count": 307,
   "id": "2624c333",
   "metadata": {},
   "outputs": [
    {
     "data": {
      "text/plain": [
       "[0.11725376247883522, 13500.0, -3.4417363256701575e-07]"
      ]
     },
     "execution_count": 307,
     "metadata": {},
     "output_type": "execute_result"
    }
   ],
   "source": [
    "a"
   ]
  },
  {
   "cell_type": "code",
   "execution_count": null,
   "id": "88b21936",
   "metadata": {},
   "outputs": [],
   "source": []
  }
 ],
 "metadata": {
  "kernelspec": {
   "display_name": "Python 3 (ipykernel)",
   "language": "python",
   "name": "python3"
  },
  "language_info": {
   "codemirror_mode": {
    "name": "ipython",
    "version": 3
   },
   "file_extension": ".py",
   "mimetype": "text/x-python",
   "name": "python",
   "nbconvert_exporter": "python",
   "pygments_lexer": "ipython3",
   "version": "3.9.7"
  }
 },
 "nbformat": 4,
 "nbformat_minor": 5
}
